{
 "cells": [
  {
   "cell_type": "markdown",
   "id": "ad7f0442",
   "metadata": {},
   "source": [
    "Q-1."
   ]
  },
  {
   "cell_type": "markdown",
   "id": "69c3dc91",
   "metadata": {},
   "source": [
    "\n",
    "A correlation coefficient ranges from -1 to +1, where:\n",
    "\n",
    "+1 indicates a perfect positive linear relationship .\n",
    "0 indicates no linear relationship between the variables.\n",
    "-1 indicates a perfect negative linear relationship \n",
    "In this case, a correlation coefficient of 0.7 suggests a strong positive linear relationship, meaning that as SAT scores increase, college GPA tends to increase as well. \n",
    "The positive sign indicates that higher SAT scores are associated with higher college GPA, while the magnitude of 0.7 suggests a relatively strong correlation between the two variables"
   ]
  },
  {
   "cell_type": "code",
   "execution_count": 20,
   "id": "909805cc",
   "metadata": {},
   "outputs": [
    {
     "name": "stdout",
     "output_type": "stream",
     "text": [
      "Percentage of individuals with heights between 160 cm and 180 cm: 68.26894921370858\n",
      "Probability that the average height is greater than 175 cm: 2.866515719235352e-07\n",
      "Z-score corresponding to a height of 185 cm: 1.5\n",
      "Approximate height corresponding to the threshold of 5%: 153.55146373048527\n",
      "Coefficient of Variation (CV) for the dataset: 5.88235294117647\n"
     ]
    }
   ],
   "source": [
    "#Q-2.\n",
    "import scipy.stats as stats\n",
    "\n",
    "mean = 170\n",
    "std_dev = 10\n",
    "\n",
    "z1 = (160 - mean) / std_dev\n",
    "z2 = (180 - mean) / std_dev\n",
    "\n",
    "percentage = (stats.norm.cdf(z2) - stats.norm.cdf(z1)) * 100\n",
    "\n",
    "print(\"Percentage of individuals with heights between 160 cm and 180 cm:\", percentage)\n",
    "\n",
    "\n",
    "#b.\n",
    "sample_size = 100\n",
    "mean_sample = mean\n",
    "std_dev_sample = std_dev / (sample_size ** 0.5)\n",
    "z = (175 - mean_sample) / std_dev_sample\n",
    "\n",
    "probability = 1 - stats.norm.cdf(z)\n",
    "\n",
    "print(\"Probability that the average height is greater than 175 cm:\", probability)\n",
    "\n",
    "\n",
    "#c.\n",
    "height = 185\n",
    "z_score = (height - mean) / std_dev\n",
    "\n",
    "print(\"Z-score corresponding to a height of 185 cm:\", z_score)\n",
    "\n",
    "\n",
    "#d.\n",
    "threshold = 0.05\n",
    "height_threshold = stats.norm.ppf(threshold, loc=mean, scale=std_dev)\n",
    "\n",
    "print(\"Approximate height corresponding to the threshold of 5%:\", height_threshold)\n",
    "\n",
    "#e.\n",
    "cv = (std_dev / mean) * 100\n",
    "\n",
    "print(\"Coefficient of Variation (CV) for the dataset:\", cv)\n",
    "\n",
    "#f\n"
   ]
  },
  {
   "cell_type": "code",
   "execution_count": 18,
   "id": "a2ed15fe",
   "metadata": {},
   "outputs": [
    {
     "name": "stdout",
     "output_type": "stream",
     "text": [
      "Dispersion in Blood Pressure Before: 22 80.88888888888889\n",
      "Dispersion in Blood Pressure After: 17 57.555555555555564\n"
     ]
    },
    {
     "data": {
      "image/png": "[encoded data removed]",
      "text/plain": [
       "<Figure size 432x288 with 1 Axes>"
      ]
     },
     "metadata": {
      "needs_background": "light"
     },
     "output_type": "display_data"
    },
    {
     "name": "stdout",
     "output_type": "stream",
     "text": [
      "Mean Absolute Deviation (MAD) Before: 7.555555555555553\n",
      "Mean Absolute Deviation (MAD) After: 7.11111111111111\n",
      "Standard Deviation (SD) Before: 8.993825042154693\n",
      "Standard Deviation (SD) After: 7.586537784494029\n",
      "There is no significant correlation between Blood Pressure Before and After.\n",
      "Correlation Coefficient: 0.9347195428044841\n"
     ]
    }
   ],
   "source": [
    "#Q-3.\n",
    "import numpy as np\n",
    "\n",
    "# Blood Pressure Before and After data\n",
    "bp_before = [130, 142, 120]\n",
    "bp_after = [120, 135, 118]\n",
    "\n",
    "# Measure dispersion using range\n",
    "range_before = np.ptp(bp_before)\n",
    "range_after = np.ptp(bp_after)\n",
    "\n",
    "# Measure dispersion using variance\n",
    "var_before = np.var(bp_before)\n",
    "var_after = np.var(bp_after)\n",
    "\n",
    "print(\"Dispersion in Blood Pressure Before:\", range_before, var_before)\n",
    "print(\"Dispersion in Blood Pressure After:\", range_after, var_after)\n",
    "\n",
    "#b.\n",
    "import matplotlib.pyplot as plt\n",
    "\n",
    "# Calculate mean\n",
    "mean_before = np.mean(bp_before)\n",
    "mean_after = np.mean(bp_after)\n",
    "\n",
    "# Calculate standard error\n",
    "se_before = np.std(bp_before) / np.sqrt(len(bp_before))\n",
    "se_after = np.std(bp_after) / np.sqrt(len(bp_after))\n",
    "\n",
    "# Calculate confidence interval\n",
    "ci_before = stats.t.interval(0.95, len(bp_before)-1, loc=mean_before, scale=se_before)\n",
    "ci_after = stats.t.interval(0.95, len(bp_after)-1, loc=mean_after, scale=se_after)\n",
    "\n",
    "# Plot the means and confidence intervals\n",
    "labels = ['Before', 'After']\n",
    "means = [mean_before, mean_after]\n",
    "cis = [ci_before, ci_after]\n",
    "\n",
    "plt.bar(labels, means, yerr=[(ci[1]-ci[0])/2 for ci in cis], capsize=5)\n",
    "plt.ylabel('Mean Blood Pressure (mmHg)')\n",
    "plt.title('Mean Blood Pressure Before and After')\n",
    "plt.show()\n",
    "\n",
    "#c.\n",
    "mad_before = np.mean(np.abs(bp_before - np.mean(bp_before)))\n",
    "mad_after = np.mean(np.abs(bp_after - np.mean(bp_after)))\n",
    "\n",
    "sd_before = np.std(bp_before)\n",
    "sd_after = np.std(bp_after)\n",
    "\n",
    "print(\"Mean Absolute Deviation (MAD) Before:\", mad_before)\n",
    "print(\"Mean Absolute Deviation (MAD) After:\", mad_after)\n",
    "print(\"Standard Deviation (SD) Before:\", sd_before)\n",
    "print(\"Standard Deviation (SD) After:\", sd_after)\n",
    "\n",
    "#d.\n",
    "correlation_coefficient, p_value = stats.pearsonr(bp_before, bp_after)\n",
    "\n",
    "alpha = 0.01\n",
    "if p_value < alpha:\n",
    "    print(\"There is a significant correlation between Blood Pressure Before and After.\")\n",
    "else:\n",
    "    print(\"There is no significant correlation between Blood Pressure Before and After.\")\n",
    "\n",
    "print(\"Correlation Coefficient:\", correlation_coefficient)\n",
    "\n"
   ]
  },
  {
   "cell_type": "code",
   "execution_count": 16,
   "id": "9b6cdf2f",
   "metadata": {},
   "outputs": [
    {
     "name": "stdout",
     "output_type": "stream",
     "text": [
      "Probability of drawing a perfect square number: 0.2\n"
     ]
    }
   ],
   "source": [
    "#Q-4.\n",
    "total_outcomes = 20\n",
    "perfect_square_numbers = [1, 4, 9, 16]\n",
    "\n",
    "# Count the number of perfect square numbers\n",
    "count_perfect_squares = len(perfect_square_numbers)\n",
    "\n",
    "# Calculate the probability\n",
    "probability = count_perfect_squares / total_outcomes\n",
    "\n",
    "print(\"Probability of drawing a perfect square number:\", probability)\n"
   ]
  },
  {
   "cell_type": "markdown",
   "id": "29151997",
   "metadata": {},
   "source": [
    "Q-5.  To calculate the probability that a randomly selected late taxi belongs to Company A, we can use Bayes' theorem.\n",
    "\n",
    "Let's denote the events as follows:\n",
    "\n",
    "A: The taxi belongs to Company A\n",
    "B: The taxi belongs to Company B\n",
    "L: The taxi is late\n",
    "We need to calculate P(A|L), which represents the probability that the taxi belongs to Company A given that it is late.\n",
    "\n",
    "According to Bayes' theorem:\n",
    "P(A|L) = (P(L|A) * P(A)) / P(L)\n",
    "\n",
    "Given:\n",
    "P(L|A) = 1 - 0.95 = 0.05 (the probability that a taxi from Company A is late)\n",
    "P(L|B) = 1 - 0.90 = 0.10 (the probability that a taxi from Company B is late)\n",
    "P(A) = 0.80 (the probability that a randomly selected taxi is from Company A)\n",
    "P(B) = 0.20 (the probability that a randomly selected taxi is from Company B)\n",
    "\n",
    "We can calculate P(L) using the law of total probability:\n",
    "P(L) = P(L|A) * P(A) + P(L|B) * P(B)\n",
    "\n",
    "Now let's calculate P(A|L) using the given probabilities:"
   ]
  },
  {
   "cell_type": "code",
   "execution_count": 15,
   "id": "17708ef4",
   "metadata": {},
   "outputs": [
    {
     "name": "stdout",
     "output_type": "stream",
     "text": [
      "Probability that a randomly selected late taxi belongs to Company A: 0.6666666666666666\n"
     ]
    }
   ],
   "source": [
    "# Probability that a taxi from Company A is late\n",
    "p_late_a = 0.05\n",
    "\n",
    "# Probability that a taxi from Company B is late\n",
    "p_late_b = 0.10\n",
    "\n",
    "# Probability that a randomly selected taxi is from Company A\n",
    "p_a = 0.80\n",
    "\n",
    "# Probability that a randomly selected taxi is from Company B\n",
    "p_b = 0.20\n",
    "\n",
    "# Calculate the probability that a taxi is late\n",
    "p_late = p_late_a * p_a + p_late_b * p_b\n",
    "\n",
    "# Calculate the probability that a late taxi belongs to Company A using Bayes' theorem\n",
    "p_a_given_late = (p_late_a * p_a) / p_late\n",
    "\n",
    "print(\"Probability that a randomly selected late taxi belongs to Company A:\", p_a_given_late)\n"
   ]
  },
  {
   "cell_type": "code",
   "execution_count": 13,
   "id": "fcf834a5",
   "metadata": {},
   "outputs": [
    {
     "name": "stdout",
     "output_type": "stream",
     "text": [
      "The change in blood pressure does not follow a normal distribution.\n"
     ]
    }
   ],
   "source": [
    "#Q-6.\n",
    "import pandas as pd\n",
    "import scipy.stats as stats\n",
    "\n",
    "# Read dataset from the link\n",
    "url = \"https://drive.google.com/file/d/1mCjtYHiX--mMUjicuaP2gH3k-SnFxt8Y/view\"\n",
    "file_id = url.split(\"/\")[5]\n",
    "download_url = f\"https://drive.google.com/uc?id={file_id}\"\n",
    "df = pd.read_csv(download_url)\n",
    "\n",
    "# Remove leading spaces from column names\n",
    "df.columns = df.columns.str.strip()\n",
    "# Calculate the change in blood pressure\n",
    "df[\"Blood Pressure Change\"] = df[\"Blood Pressure Before (mmHg)\"] - df[\"Blood Pressure After (mmHg)\"]\n",
    "\n",
    "# Perform Shapiro-Wilk test\n",
    "statistic, p_value = stats.shapiro(df[\"Blood Pressure Change\"])\n",
    "\n",
    "# Check the p-value\n",
    "if p_value < 0.05:\n",
    "    print(\"The change in blood pressure does not follow a normal distribution.\")\n",
    "else:\n",
    "    print(\"The change in blood pressure follows a normal distribution.\")\n"
   ]
  },
  {
   "cell_type": "code",
   "execution_count": 1,
   "id": "1cf6a260",
   "metadata": {},
   "outputs": [
    {
     "name": "stdout",
     "output_type": "stream",
     "text": [
      "Test statistic: 0.0\n",
      "p-value: 0.001953125\n",
      "The therapy had a significant effect on anxiety levels.\n"
     ]
    }
   ],
   "source": [
    "#Q-8.\n",
    "from scipy import stats\n",
    "\n",
    "# Data\n",
    "before_scores = [10, 8, 12, 15, 6, 9, 11, 7, 14, 10]\n",
    "after_scores = [7, 6, 10, 12, 5, 8, 9, 6, 12, 8]\n",
    "\n",
    "# Perform Wilcoxon signed-rank test\n",
    "statistic, p_value = stats.wilcoxon(before_scores, after_scores)\n",
    "\n",
    "# Define significance level\n",
    "alpha = 0.05\n",
    "\n",
    "# Print results\n",
    "print(\"Test statistic:\", statistic)\n",
    "print(\"p-value:\", p_value)\n",
    "\n",
    "if p_value < alpha:\n",
    "    print(\"The therapy had a significant effect on anxiety levels.\")\n",
    "else:\n",
    "    print(\"The therapy did not have a significant effect on anxiety levels.\")\n"
   ]
  },
  {
   "cell_type": "code",
   "execution_count": 2,
   "id": "2a29bc00",
   "metadata": {},
   "outputs": [
    {
     "name": "stdout",
     "output_type": "stream",
     "text": [
      "F-statistic: 0.3236947791164659\n",
      "p-value: 0.7295954253321559\n",
      "The mean scores are not significantly different.\n",
      "Student with highest score: Jeevan\n",
      "Highest score: 283\n"
     ]
    }
   ],
   "source": [
    "#Q-9.\n",
    "import numpy as np\n",
    "from scipy import stats\n",
    "\n",
    "# Data\n",
    "names = ['Karan', 'Deepa', 'Karthik', 'Chandan', 'Jeevan']\n",
    "exam1_scores = [85, 70, 90, 75, 95]\n",
    "exam2_scores = [90, 80, 85, 70, 92]\n",
    "final_exam_scores = [92, 85, 88, 75, 96]\n",
    "\n",
    "# Perform one-way ANOVA\n",
    "f_statistic, p_value = stats.f_oneway(exam1_scores, exam2_scores, final_exam_scores)\n",
    "\n",
    "# Define significance level\n",
    "alpha = 0.05\n",
    "\n",
    "# Print results\n",
    "print(\"F-statistic:\", f_statistic)\n",
    "print(\"p-value:\", p_value)\n",
    "\n",
    "if p_value < alpha:\n",
    "    print(\"The mean scores are significantly different.\")\n",
    "else:\n",
    "    print(\"The mean scores are not significantly different.\")\n",
    "\n",
    "# Find student with highest score\n",
    "total_scores = np.array(exam1_scores) + np.array(exam2_scores) + np.array(final_exam_scores)\n",
    "highest_score_index = np.argmax(total_scores)\n",
    "highest_score_student = names[highest_score_index]\n",
    "highest_score = total_scores[highest_score_index]\n",
    "print(\"Student with highest score:\", highest_score_student)\n",
    "print(\"Highest score:\", highest_score)\n"
   ]
  },
  {
   "cell_type": "code",
   "execution_count": 14,
   "id": "7a3ff1b9",
   "metadata": {},
   "outputs": [
    {
     "name": "stdout",
     "output_type": "stream",
     "text": [
      "a. Probability that exactly 20 bulbs are defective: 0.05161619253663997\n",
      "b. Probability that at least 10 bulbs are defective: 0.9998316463654692\n",
      "c. Probability that at max 15 bulbs are defective: 0.019858377163027074\n",
      "d. Expected number of defective bulbs: 25.0\n"
     ]
    }
   ],
   "source": [
    "#Q-10.\n",
    "import math\n",
    "\n",
    "def binomial_coefficient(n, k):\n",
    "    return math.comb(n, k)\n",
    "\n",
    "def probability_of_k_successes(n, p, k):\n",
    "    return binomial_coefficient(n, k) * p**k * (1 - p)**(n - k)\n",
    "\n",
    "def probability_of_at_least_k_successes(n, p, k):\n",
    "    probability = 0\n",
    "    for i in range(k, n + 1):\n",
    "        probability += probability_of_k_successes(n, p, i)\n",
    "    return probability\n",
    "\n",
    "def expected_value(n, p):\n",
    "    return n * p\n",
    "\n",
    "# a. Probability that exactly 20 bulbs are defective\n",
    "n = 500\n",
    "p = 0.05\n",
    "k = 20\n",
    "probability_20_defective = probability_of_k_successes(n, p, k)\n",
    "print(\"a. Probability that exactly 20 bulbs are defective:\", probability_20_defective)\n",
    "\n",
    "# b. Probability that at least 10 bulbs are defective\n",
    "k = 10\n",
    "probability_at_least_10_defective = probability_of_at_least_k_successes(n, p, k)\n",
    "print(\"b. Probability that at least 10 bulbs are defective:\", probability_at_least_10_defective)\n",
    "\n",
    "# c. Probability that at max 15 bulbs are defective\n",
    "k = 15\n",
    "probability_max_15_defective = probability_of_at_least_k_successes(n, p, k + 1)\n",
    "print(\"c. Probability that at max 15 bulbs are defective:\", 1 - probability_max_15_defective)\n",
    "\n",
    "# d. Expected number of defective bulbs in a batch of 500\n",
    "expected_defective_bulbs = expected_value(n, p)\n",
    "print(\"d. Expected number of defective bulbs:\", expected_defective_bulbs)\n"
   ]
  },
  {
   "cell_type": "code",
   "execution_count": 11,
   "id": "6f632c74",
   "metadata": {},
   "outputs": [
    {
     "name": "stdout",
     "output_type": "stream",
     "text": [
      "The distributions of the two classes are significantly different.\n",
      "The variances of the two classes are not significantly different.\n",
      "There are significant differences in mean between the classes.\n"
     ]
    }
   ],
   "source": [
    "#Q-11.\n",
    "import pandas as pd\n",
    "import scipy.stats as stats\n",
    "\n",
    "# Read dataset from the link\n",
    "url = \"https://drive.google.com/file/d/1mCjtYHiX--mMUjicuaP2gH3k-SnFxt8Y/view\"\n",
    "file_id = url.split(\"/\")[5]\n",
    "download_url = f\"https://drive.google.com/uc?id={file_id}\"\n",
    "df = pd.read_csv(download_url)\n",
    "\n",
    "# Remove leading spaces from column names\n",
    "df.columns = df.columns.str.strip()\n",
    "\n",
    "# a. Check whether the distribution of all the classes is the same or not\n",
    "before_values = df[\"Blood Pressure Before (mmHg)\"]\n",
    "after_values = df[\"Blood Pressure After (mmHg)\"]\n",
    "\n",
    "# Example: Perform t-test for the two distributions\n",
    "t_statistic, p_value = stats.ttest_ind(before_values, after_values)\n",
    "if p_value < 0.05:\n",
    "    print(\"The distributions of the two classes are significantly different.\")\n",
    "else:\n",
    "    print(\"The distributions of the two classes are not significantly different.\")\n",
    "\n",
    "# b. Check for the equality of variance\n",
    "# Example: Perform Levene's test for equality of variances\n",
    "levene_statistic, p_value = stats.levene(before_values, after_values)\n",
    "if p_value < 0.05:\n",
    "    print(\"The variances of the two classes are significantly different.\")\n",
    "else:\n",
    "    print(\"The variances of the two classes are not significantly different.\")\n",
    "\n",
    "# c. Determine which method (LDA or QDA) would perform better for classification\n",
    "# Perform LDA and QDA on the dataset, evaluate their performance\n",
    "\n",
    "# d. Check the equality of mean between all the classes\n",
    "# Example: Perform one-way ANOVA test\n",
    "f_statistic, p_value = stats.f_oneway(before_values, after_values)\n",
    "if p_value < 0.05:\n",
    "    print(\"There are significant differences in mean between the classes.\")\n",
    "else:\n",
    "    print(\"There are no significant differences in mean between the classes.\")\n",
    "\n"
   ]
  },
  {
   "cell_type": "code",
   "execution_count": 21,
   "id": "9f74a3a8",
   "metadata": {},
   "outputs": [
    {
     "name": "stdout",
     "output_type": "stream",
     "text": [
      "There is no significant difference in the mean improvement scores between the two groups.\n",
      "t-statistic: 1.6431676725154976\n",
      "p-value: 0.10575916705583671\n"
     ]
    }
   ],
   "source": [
    "#12.\n",
    "import scipy.stats as stats\n",
    "\n",
    "# Data for Group A\n",
    "group_a_mean = 2.5\n",
    "group_a_std = 0.8\n",
    "group_a_n = 30\n",
    "\n",
    "# Data for Group B\n",
    "group_b_mean = 2.2\n",
    "group_b_std = 0.6\n",
    "group_b_n = 30\n",
    "\n",
    "# Conduct independent samples t-test\n",
    "t_statistic, p_value = stats.ttest_ind_from_stats(\n",
    "    mean1=group_a_mean, std1=group_a_std, nobs1=group_a_n,\n",
    "    mean2=group_b_mean, std2=group_b_std, nobs2=group_b_n\n",
    ")\n",
    "\n",
    "# Check the p-value against the significance level\n",
    "alpha = 0.05\n",
    "if p_value < alpha:\n",
    "    print(\"There is a significant difference in the mean improvement scores between the two groups.\")\n",
    "else:\n",
    "    print(\"There is no significant difference in the mean improvement scores between the two groups.\")\n",
    "\n",
    "# Print the t-statistic and p-value\n",
    "print(\"t-statistic:\", t_statistic)\n",
    "print(\"p-value:\", p_value)\n"
   ]
  }
 ],
 "metadata": {
  "kernelspec": {
   "display_name": "Python 3 (ipykernel)",
   "language": "python",
   "name": "python3"
  },
  "language_info": {
   "codemirror_mode": {
    "name": "ipython",
    "version": 3
   },
   "file_extension": ".py",
   "mimetype": "text/x-python",
   "name": "python",
   "nbconvert_exporter": "python",
   "pygments_lexer": "ipython3",
   "version": "3.9.12"
  }
 },
 "nbformat": 4,
 "nbformat_minor": 5
}
